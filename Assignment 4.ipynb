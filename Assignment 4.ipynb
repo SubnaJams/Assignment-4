{
 "cells": [
  {
   "cell_type": "markdown",
   "metadata": {},
   "source": [
    "<b>Create a txt file,enter multiple lines of text.Read this file line by line and store it into a list.Apply exception handling technique</b>"
   ]
  },
  {
   "cell_type": "code",
   "execution_count": 2,
   "metadata": {},
   "outputs": [
    {
     "name": "stdout",
     "output_type": "stream",
     "text": [
      "Overwriting file1.txt\n"
     ]
    }
   ],
   "source": [
    "%%writefile file1.txt\n",
    "Haiiiii haii\n",
    "Im angel\n",
    "I have many magics\n"
   ]
  },
  {
   "cell_type": "code",
   "execution_count": 21,
   "metadata": {},
   "outputs": [
    {
     "name": "stdout",
     "output_type": "stream",
     "text": [
      "['Haiiiii haii\\n']\n",
      "['Haiiiii haii\\n', 'Im angel\\n']\n",
      "['Haiiiii haii\\n', 'Im angel\\n', 'I have many magics\\n']\n",
      "file read succesfully\n"
     ]
    }
   ],
   "source": [
    "try:\n",
    "    myfile=open(\"file1.txt\")\n",
    "except Exception as error1:\n",
    "        print(\"file does not exist\")\n",
    "else:\n",
    "    myfile.seek(0)\n",
    "    k=myfile.readlines()\n",
    "    list=[]\n",
    "    for i in k:\n",
    "        list.append(i)\n",
    "        print(list)\n",
    "finally:\n",
    "    print(\"file read succesfully\")\n",
    "    "
   ]
  },
  {
   "cell_type": "markdown",
   "metadata": {},
   "source": [
    "<b>Write a python program to write below list content to a file.Apply exception handling technique</b>\n",
    "\n",
    "<b>color=['Red','Green','white','Black','pink','yellow']</b>"
   ]
  },
  {
   "cell_type": "code",
   "execution_count": 22,
   "metadata": {},
   "outputs": [
    {
     "name": "stdout",
     "output_type": "stream",
     "text": [
      "red\n",
      "green\n",
      "white\n",
      "black\n",
      "pink\n",
      "yellow\n",
      "\n",
      "list content stored succesfully\n"
     ]
    }
   ],
   "source": [
    "color=['red','green','white','black','pink','yellow']\n",
    "try:\n",
    "    myfile2=open(\"file2.txt\",'w+')\n",
    "except Exception as error2:\n",
    "    print(\"error\",error2)\n",
    "else:\n",
    "    for i in color:\n",
    "        myfile2.writelines(i+\"\\n\")\n",
    "        myfile2.seek(0)\n",
    "        list=myfile2.read()\n",
    "finally:\n",
    "    print(list)\n",
    "    print(\"list content stored succesfully\")\n",
    "    "
   ]
  },
  {
   "cell_type": "markdown",
   "metadata": {},
   "source": [
    "<b>Create a txt file,enter multiple lines of text.Remove newline characters from created file and print as a list.Apply exception handling techniques wherever possible</b>\n"
   ]
  },
  {
   "cell_type": "code",
   "execution_count": 20,
   "metadata": {},
   "outputs": [
    {
     "name": "stdout",
     "output_type": "stream",
     "text": [
      "Overwriting file3.txt\n"
     ]
    }
   ],
   "source": [
    "%%writefile file3.txt\n",
    "im in a meeting\n",
    "im busy\n",
    "im busy hi\n",
    "im qualified\n"
   ]
  },
  {
   "cell_type": "code",
   "execution_count": 24,
   "metadata": {},
   "outputs": [
    {
     "name": "stdout",
     "output_type": "stream",
     "text": [
      "['im in a meeting', 'im busy', 'im busy hi', 'im qualified']\n"
     ]
    }
   ],
   "source": [
    "try:\n",
    "    myfile3=open(\"file3.txt\")\n",
    "    myfile3.seek(0)\n",
    "    text=myfile3.readlines()\n",
    "except Exception as error3:\n",
    "    print(\"error\",error3)\n",
    "else:\n",
    "    list1=[]\n",
    "    for i in text:\n",
    "        list1.append(i.strip())\n",
    "finally:\n",
    "    print(list1)\n",
    "    "
   ]
  },
  {
   "cell_type": "markdown",
   "metadata": {},
   "source": [
    "<b>Create a testfile1.txt file,enter multiple lines of text.Now copy comtents of testfile1.txt to new file testfile22.txt.Apply exception handling techniques wherever possible</b>"
   ]
  },
  {
   "cell_type": "code",
   "execution_count": 26,
   "metadata": {},
   "outputs": [
    {
     "name": "stdout",
     "output_type": "stream",
     "text": [
      "Overwriting textfile1.txt\n"
     ]
    }
   ],
   "source": [
    "%%writefile textfile1.txt\n",
    "They are playing\n",
    "They are walkingg"
   ]
  },
  {
   "cell_type": "code",
   "execution_count": 29,
   "metadata": {},
   "outputs": [
    {
     "name": "stdout",
     "output_type": "stream",
     "text": [
      "They are playing\n",
      "They are walkingg\n",
      "\n"
     ]
    }
   ],
   "source": [
    "try:\n",
    "    myfile4=open(\"textfile1.txt\")\n",
    "    myfile4.seek(0)\n",
    "    text=myfile4.read()\n",
    "except Exception as error:\n",
    "    print(\"error\")\n",
    "else:\n",
    "    myfile5=open(\"textfile22.txt\",'w+')\n",
    "    myfile5.write(text)\n",
    "    myfile5.seek(0)\n",
    "finally:\n",
    "    u=myfile5.read()\n",
    "    print(u)"
   ]
  },
  {
   "cell_type": "code",
   "execution_count": null,
   "metadata": {},
   "outputs": [],
   "source": []
  }
 ],
 "metadata": {
  "kernelspec": {
   "display_name": "Python 3",
   "language": "python",
   "name": "python3"
  },
  "language_info": {
   "codemirror_mode": {
    "name": "ipython",
    "version": 3
   },
   "file_extension": ".py",
   "mimetype": "text/x-python",
   "name": "python",
   "nbconvert_exporter": "python",
   "pygments_lexer": "ipython3",
   "version": "3.8.3"
  }
 },
 "nbformat": 4,
 "nbformat_minor": 4
}
